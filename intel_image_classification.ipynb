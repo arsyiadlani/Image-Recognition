{
  "nbformat": 4,
  "nbformat_minor": 0,
  "metadata": {
    "colab": {
      "name": "Copy of Deep Learning CNN Image Recognition.ipynb",
      "provenance": [],
      "collapsed_sections": [],
      "include_colab_link": true
    },
    "kernelspec": {
      "name": "python3",
      "display_name": "Python 3"
    },
    "accelerator": "GPU"
  },
  "cells": [
    {
      "cell_type": "markdown",
      "metadata": {
        "id": "view-in-github",
        "colab_type": "text"
      },
      "source": [
        "<a href=\"https://colab.research.google.com/github/arsyiadlani/Image-Recognition/blob/main/intel_image_classification.ipynb\" target=\"_parent\"><img src=\"https://colab.research.google.com/assets/colab-badge.svg\" alt=\"Open In Colab\"/></a>"
      ]
    },
    {
      "cell_type": "markdown",
      "metadata": {
        "id": "PP3mQFF6tOLf"
      },
      "source": [
        "#DATA RETRIEVING AND PREPROCESSING"
      ]
    },
    {
      "cell_type": "code",
      "metadata": {
        "id": "I5FyuJxDb3Nh"
      },
      "source": [
        "!pip install -q kaggle"
      ],
      "execution_count": 2,
      "outputs": []
    },
    {
      "cell_type": "code",
      "metadata": {
        "id": "AVyIUuLFQxou",
        "colab": {
          "resources": {
            "http://localhost:8080/nbextensions/google.colab/files.js": {
              "data": "Ly8gQ29weXJpZ2h0IDIwMTcgR29vZ2xlIExMQwovLwovLyBMaWNlbnNlZCB1bmRlciB0aGUgQXBhY2hlIExpY2Vuc2UsIFZlcnNpb24gMi4wICh0aGUgIkxpY2Vuc2UiKTsKLy8geW91IG1heSBub3QgdXNlIHRoaXMgZmlsZSBleGNlcHQgaW4gY29tcGxpYW5jZSB3aXRoIHRoZSBMaWNlbnNlLgovLyBZb3UgbWF5IG9idGFpbiBhIGNvcHkgb2YgdGhlIExpY2Vuc2UgYXQKLy8KLy8gICAgICBodHRwOi8vd3d3LmFwYWNoZS5vcmcvbGljZW5zZXMvTElDRU5TRS0yLjAKLy8KLy8gVW5sZXNzIHJlcXVpcmVkIGJ5IGFwcGxpY2FibGUgbGF3IG9yIGFncmVlZCB0byBpbiB3cml0aW5nLCBzb2Z0d2FyZQovLyBkaXN0cmlidXRlZCB1bmRlciB0aGUgTGljZW5zZSBpcyBkaXN0cmlidXRlZCBvbiBhbiAiQVMgSVMiIEJBU0lTLAovLyBXSVRIT1VUIFdBUlJBTlRJRVMgT1IgQ09ORElUSU9OUyBPRiBBTlkgS0lORCwgZWl0aGVyIGV4cHJlc3Mgb3IgaW1wbGllZC4KLy8gU2VlIHRoZSBMaWNlbnNlIGZvciB0aGUgc3BlY2lmaWMgbGFuZ3VhZ2UgZ292ZXJuaW5nIHBlcm1pc3Npb25zIGFuZAovLyBsaW1pdGF0aW9ucyB1bmRlciB0aGUgTGljZW5zZS4KCi8qKgogKiBAZmlsZW92ZXJ2aWV3IEhlbHBlcnMgZm9yIGdvb2dsZS5jb2xhYiBQeXRob24gbW9kdWxlLgogKi8KKGZ1bmN0aW9uKHNjb3BlKSB7CmZ1bmN0aW9uIHNwYW4odGV4dCwgc3R5bGVBdHRyaWJ1dGVzID0ge30pIHsKICBjb25zdCBlbGVtZW50ID0gZG9jdW1lbnQuY3JlYXRlRWxlbWVudCgnc3BhbicpOwogIGVsZW1lbnQudGV4dENvbnRlbnQgPSB0ZXh0OwogIGZvciAoY29uc3Qga2V5IG9mIE9iamVjdC5rZXlzKHN0eWxlQXR0cmlidXRlcykpIHsKICAgIGVsZW1lbnQuc3R5bGVba2V5XSA9IHN0eWxlQXR0cmlidXRlc1trZXldOwogIH0KICByZXR1cm4gZWxlbWVudDsKfQoKLy8gTWF4IG51bWJlciBvZiBieXRlcyB3aGljaCB3aWxsIGJlIHVwbG9hZGVkIGF0IGEgdGltZS4KY29uc3QgTUFYX1BBWUxPQURfU0laRSA9IDEwMCAqIDEwMjQ7CgpmdW5jdGlvbiBfdXBsb2FkRmlsZXMoaW5wdXRJZCwgb3V0cHV0SWQpIHsKICBjb25zdCBzdGVwcyA9IHVwbG9hZEZpbGVzU3RlcChpbnB1dElkLCBvdXRwdXRJZCk7CiAgY29uc3Qgb3V0cHV0RWxlbWVudCA9IGRvY3VtZW50LmdldEVsZW1lbnRCeUlkKG91dHB1dElkKTsKICAvLyBDYWNoZSBzdGVwcyBvbiB0aGUgb3V0cHV0RWxlbWVudCB0byBtYWtlIGl0IGF2YWlsYWJsZSBmb3IgdGhlIG5leHQgY2FsbAogIC8vIHRvIHVwbG9hZEZpbGVzQ29udGludWUgZnJvbSBQeXRob24uCiAgb3V0cHV0RWxlbWVudC5zdGVwcyA9IHN0ZXBzOwoKICByZXR1cm4gX3VwbG9hZEZpbGVzQ29udGludWUob3V0cHV0SWQpOwp9CgovLyBUaGlzIGlzIHJvdWdobHkgYW4gYXN5bmMgZ2VuZXJhdG9yIChub3Qgc3VwcG9ydGVkIGluIHRoZSBicm93c2VyIHlldCksCi8vIHdoZXJlIHRoZXJlIGFyZSBtdWx0aXBsZSBhc3luY2hyb25vdXMgc3RlcHMgYW5kIHRoZSBQeXRob24gc2lkZSBpcyBnb2luZwovLyB0byBwb2xsIGZvciBjb21wbGV0aW9uIG9mIGVhY2ggc3RlcC4KLy8gVGhpcyB1c2VzIGEgUHJvbWlzZSB0byBibG9jayB0aGUgcHl0aG9uIHNpZGUgb24gY29tcGxldGlvbiBvZiBlYWNoIHN0ZXAsCi8vIHRoZW4gcGFzc2VzIHRoZSByZXN1bHQgb2YgdGhlIHByZXZpb3VzIHN0ZXAgYXMgdGhlIGlucHV0IHRvIHRoZSBuZXh0IHN0ZXAuCmZ1bmN0aW9uIF91cGxvYWRGaWxlc0NvbnRpbnVlKG91dHB1dElkKSB7CiAgY29uc3Qgb3V0cHV0RWxlbWVudCA9IGRvY3VtZW50LmdldEVsZW1lbnRCeUlkKG91dHB1dElkKTsKICBjb25zdCBzdGVwcyA9IG91dHB1dEVsZW1lbnQuc3RlcHM7CgogIGNvbnN0IG5leHQgPSBzdGVwcy5uZXh0KG91dHB1dEVsZW1lbnQubGFzdFByb21pc2VWYWx1ZSk7CiAgcmV0dXJuIFByb21pc2UucmVzb2x2ZShuZXh0LnZhbHVlLnByb21pc2UpLnRoZW4oKHZhbHVlKSA9PiB7CiAgICAvLyBDYWNoZSB0aGUgbGFzdCBwcm9taXNlIHZhbHVlIHRvIG1ha2UgaXQgYXZhaWxhYmxlIHRvIHRoZSBuZXh0CiAgICAvLyBzdGVwIG9mIHRoZSBnZW5lcmF0b3IuCiAgICBvdXRwdXRFbGVtZW50Lmxhc3RQcm9taXNlVmFsdWUgPSB2YWx1ZTsKICAgIHJldHVybiBuZXh0LnZhbHVlLnJlc3BvbnNlOwogIH0pOwp9CgovKioKICogR2VuZXJhdG9yIGZ1bmN0aW9uIHdoaWNoIGlzIGNhbGxlZCBiZXR3ZWVuIGVhY2ggYXN5bmMgc3RlcCBvZiB0aGUgdXBsb2FkCiAqIHByb2Nlc3MuCiAqIEBwYXJhbSB7c3RyaW5nfSBpbnB1dElkIEVsZW1lbnQgSUQgb2YgdGhlIGlucHV0IGZpbGUgcGlja2VyIGVsZW1lbnQuCiAqIEBwYXJhbSB7c3RyaW5nfSBvdXRwdXRJZCBFbGVtZW50IElEIG9mIHRoZSBvdXRwdXQgZGlzcGxheS4KICogQHJldHVybiB7IUl0ZXJhYmxlPCFPYmplY3Q+fSBJdGVyYWJsZSBvZiBuZXh0IHN0ZXBzLgogKi8KZnVuY3Rpb24qIHVwbG9hZEZpbGVzU3RlcChpbnB1dElkLCBvdXRwdXRJZCkgewogIGNvbnN0IGlucHV0RWxlbWVudCA9IGRvY3VtZW50LmdldEVsZW1lbnRCeUlkKGlucHV0SWQpOwogIGlucHV0RWxlbWVudC5kaXNhYmxlZCA9IGZhbHNlOwoKICBjb25zdCBvdXRwdXRFbGVtZW50ID0gZG9jdW1lbnQuZ2V0RWxlbWVudEJ5SWQob3V0cHV0SWQpOwogIG91dHB1dEVsZW1lbnQuaW5uZXJIVE1MID0gJyc7CgogIGNvbnN0IHBpY2tlZFByb21pc2UgPSBuZXcgUHJvbWlzZSgocmVzb2x2ZSkgPT4gewogICAgaW5wdXRFbGVtZW50LmFkZEV2ZW50TGlzdGVuZXIoJ2NoYW5nZScsIChlKSA9PiB7CiAgICAgIHJlc29sdmUoZS50YXJnZXQuZmlsZXMpOwogICAgfSk7CiAgfSk7CgogIGNvbnN0IGNhbmNlbCA9IGRvY3VtZW50LmNyZWF0ZUVsZW1lbnQoJ2J1dHRvbicpOwogIGlucHV0RWxlbWVudC5wYXJlbnRFbGVtZW50LmFwcGVuZENoaWxkKGNhbmNlbCk7CiAgY2FuY2VsLnRleHRDb250ZW50ID0gJ0NhbmNlbCB1cGxvYWQnOwogIGNvbnN0IGNhbmNlbFByb21pc2UgPSBuZXcgUHJvbWlzZSgocmVzb2x2ZSkgPT4gewogICAgY2FuY2VsLm9uY2xpY2sgPSAoKSA9PiB7CiAgICAgIHJlc29sdmUobnVsbCk7CiAgICB9OwogIH0pOwoKICAvLyBXYWl0IGZvciB0aGUgdXNlciB0byBwaWNrIHRoZSBmaWxlcy4KICBjb25zdCBmaWxlcyA9IHlpZWxkIHsKICAgIHByb21pc2U6IFByb21pc2UucmFjZShbcGlja2VkUHJvbWlzZSwgY2FuY2VsUHJvbWlzZV0pLAogICAgcmVzcG9uc2U6IHsKICAgICAgYWN0aW9uOiAnc3RhcnRpbmcnLAogICAgfQogIH07CgogIGNhbmNlbC5yZW1vdmUoKTsKCiAgLy8gRGlzYWJsZSB0aGUgaW5wdXQgZWxlbWVudCBzaW5jZSBmdXJ0aGVyIHBpY2tzIGFyZSBub3QgYWxsb3dlZC4KICBpbnB1dEVsZW1lbnQuZGlzYWJsZWQgPSB0cnVlOwoKICBpZiAoIWZpbGVzKSB7CiAgICByZXR1cm4gewogICAgICByZXNwb25zZTogewogICAgICAgIGFjdGlvbjogJ2NvbXBsZXRlJywKICAgICAgfQogICAgfTsKICB9CgogIGZvciAoY29uc3QgZmlsZSBvZiBmaWxlcykgewogICAgY29uc3QgbGkgPSBkb2N1bWVudC5jcmVhdGVFbGVtZW50KCdsaScpOwogICAgbGkuYXBwZW5kKHNwYW4oZmlsZS5uYW1lLCB7Zm9udFdlaWdodDogJ2JvbGQnfSkpOwogICAgbGkuYXBwZW5kKHNwYW4oCiAgICAgICAgYCgke2ZpbGUudHlwZSB8fCAnbi9hJ30pIC0gJHtmaWxlLnNpemV9IGJ5dGVzLCBgICsKICAgICAgICBgbGFzdCBtb2RpZmllZDogJHsKICAgICAgICAgICAgZmlsZS5sYXN0TW9kaWZpZWREYXRlID8gZmlsZS5sYXN0TW9kaWZpZWREYXRlLnRvTG9jYWxlRGF0ZVN0cmluZygpIDoKICAgICAgICAgICAgICAgICAgICAgICAgICAgICAgICAgICAgJ24vYSd9IC0gYCkpOwogICAgY29uc3QgcGVyY2VudCA9IHNwYW4oJzAlIGRvbmUnKTsKICAgIGxpLmFwcGVuZENoaWxkKHBlcmNlbnQpOwoKICAgIG91dHB1dEVsZW1lbnQuYXBwZW5kQ2hpbGQobGkpOwoKICAgIGNvbnN0IGZpbGVEYXRhUHJvbWlzZSA9IG5ldyBQcm9taXNlKChyZXNvbHZlKSA9PiB7CiAgICAgIGNvbnN0IHJlYWRlciA9IG5ldyBGaWxlUmVhZGVyKCk7CiAgICAgIHJlYWRlci5vbmxvYWQgPSAoZSkgPT4gewogICAgICAgIHJlc29sdmUoZS50YXJnZXQucmVzdWx0KTsKICAgICAgfTsKICAgICAgcmVhZGVyLnJlYWRBc0FycmF5QnVmZmVyKGZpbGUpOwogICAgfSk7CiAgICAvLyBXYWl0IGZvciB0aGUgZGF0YSB0byBiZSByZWFkeS4KICAgIGxldCBmaWxlRGF0YSA9IHlpZWxkIHsKICAgICAgcHJvbWlzZTogZmlsZURhdGFQcm9taXNlLAogICAgICByZXNwb25zZTogewogICAgICAgIGFjdGlvbjogJ2NvbnRpbnVlJywKICAgICAgfQogICAgfTsKCiAgICAvLyBVc2UgYSBjaHVua2VkIHNlbmRpbmcgdG8gYXZvaWQgbWVzc2FnZSBzaXplIGxpbWl0cy4gU2VlIGIvNjIxMTU2NjAuCiAgICBsZXQgcG9zaXRpb24gPSAwOwogICAgd2hpbGUgKHBvc2l0aW9uIDwgZmlsZURhdGEuYnl0ZUxlbmd0aCkgewogICAgICBjb25zdCBsZW5ndGggPSBNYXRoLm1pbihmaWxlRGF0YS5ieXRlTGVuZ3RoIC0gcG9zaXRpb24sIE1BWF9QQVlMT0FEX1NJWkUpOwogICAgICBjb25zdCBjaHVuayA9IG5ldyBVaW50OEFycmF5KGZpbGVEYXRhLCBwb3NpdGlvbiwgbGVuZ3RoKTsKICAgICAgcG9zaXRpb24gKz0gbGVuZ3RoOwoKICAgICAgY29uc3QgYmFzZTY0ID0gYnRvYShTdHJpbmcuZnJvbUNoYXJDb2RlLmFwcGx5KG51bGwsIGNodW5rKSk7CiAgICAgIHlpZWxkIHsKICAgICAgICByZXNwb25zZTogewogICAgICAgICAgYWN0aW9uOiAnYXBwZW5kJywKICAgICAgICAgIGZpbGU6IGZpbGUubmFtZSwKICAgICAgICAgIGRhdGE6IGJhc2U2NCwKICAgICAgICB9LAogICAgICB9OwogICAgICBwZXJjZW50LnRleHRDb250ZW50ID0KICAgICAgICAgIGAke01hdGgucm91bmQoKHBvc2l0aW9uIC8gZmlsZURhdGEuYnl0ZUxlbmd0aCkgKiAxMDApfSUgZG9uZWA7CiAgICB9CiAgfQoKICAvLyBBbGwgZG9uZS4KICB5aWVsZCB7CiAgICByZXNwb25zZTogewogICAgICBhY3Rpb246ICdjb21wbGV0ZScsCiAgICB9CiAgfTsKfQoKc2NvcGUuZ29vZ2xlID0gc2NvcGUuZ29vZ2xlIHx8IHt9OwpzY29wZS5nb29nbGUuY29sYWIgPSBzY29wZS5nb29nbGUuY29sYWIgfHwge307CnNjb3BlLmdvb2dsZS5jb2xhYi5fZmlsZXMgPSB7CiAgX3VwbG9hZEZpbGVzLAogIF91cGxvYWRGaWxlc0NvbnRpbnVlLAp9Owp9KShzZWxmKTsK",
              "ok": true,
              "headers": [
                [
                  "content-type",
                  "application/javascript"
                ]
              ],
              "status": 200,
              "status_text": ""
            }
          },
          "base_uri": "https://localhost:8080/",
          "height": 89
        },
        "outputId": "610a503a-b0e8-4d2b-b9a0-bed4dad10359"
      },
      "source": [
        "from google.colab import files\n",
        "\n",
        "files.upload()"
      ],
      "execution_count": 3,
      "outputs": [
        {
          "output_type": "display_data",
          "data": {
            "text/html": [
              "\n",
              "     <input type=\"file\" id=\"files-95d9912c-0d7e-43da-9931-634dbb316d95\" name=\"files[]\" multiple disabled\n",
              "        style=\"border:none\" />\n",
              "     <output id=\"result-95d9912c-0d7e-43da-9931-634dbb316d95\">\n",
              "      Upload widget is only available when the cell has been executed in the\n",
              "      current browser session. Please rerun this cell to enable.\n",
              "      </output>\n",
              "      <script src=\"/nbextensions/google.colab/files.js\"></script> "
            ],
            "text/plain": [
              "<IPython.core.display.HTML object>"
            ]
          },
          "metadata": {
            "tags": []
          }
        },
        {
          "output_type": "stream",
          "text": [
            "Saving kaggle.json to kaggle.json\n"
          ],
          "name": "stdout"
        },
        {
          "output_type": "execute_result",
          "data": {
            "text/plain": [
              "{'kaggle.json': b'{\"username\":\"arsyiadlani\",\"key\":\"80635d8ab336a4a52387cc30dc386ef6\"}'}"
            ]
          },
          "metadata": {
            "tags": []
          },
          "execution_count": 3
        }
      ]
    },
    {
      "cell_type": "code",
      "metadata": {
        "id": "hQ1iDXhlcHhQ"
      },
      "source": [
        "# Make directory named kaggle and copy kaggle.json file there\n",
        "!mkdir ~/.kaggle\n",
        "!cp kaggle.json ~/.kaggle/"
      ],
      "execution_count": 4,
      "outputs": []
    },
    {
      "cell_type": "code",
      "metadata": {
        "id": "8Ow2eQzdcOYb"
      },
      "source": [
        "# Change the permissions of the file\r\n",
        "!chmod 600 ~/.kaggle/kaggle.json"
      ],
      "execution_count": 5,
      "outputs": []
    },
    {
      "cell_type": "code",
      "metadata": {
        "id": "ikuvCtuPcjvl",
        "colab": {
          "base_uri": "https://localhost:8080/"
        },
        "outputId": "819f9b19-de29-47b7-9e43-b1bfefc37765"
      },
      "source": [
        "# Retrieving dataset from Kaggle\r\n",
        "!kaggle datasets download -d puneet6060/intel-image-classification"
      ],
      "execution_count": 9,
      "outputs": [
        {
          "output_type": "stream",
          "text": [
            "Downloading intel-image-classification.zip to /content\n",
            " 99% 344M/346M [00:01<00:00, 243MB/s]\n",
            "100% 346M/346M [00:01<00:00, 209MB/s]\n"
          ],
          "name": "stdout"
        }
      ]
    },
    {
      "cell_type": "code",
      "metadata": {
        "id": "tVX4SZh9ZxRi"
      },
      "source": [
        "# Unzipping the downloaded dataset\r\n",
        "!unzip intel-image-classification.zip"
      ],
      "execution_count": null,
      "outputs": []
    },
    {
      "cell_type": "markdown",
      "metadata": {
        "id": "G9Mr13uitUc2"
      },
      "source": [
        "#IMAGE DATA PREPROCESSING"
      ]
    },
    {
      "cell_type": "code",
      "metadata": {
        "id": "ZXtLYgSvvsmw",
        "colab": {
          "base_uri": "https://localhost:8080/"
        },
        "outputId": "534c6dd2-06b5-4353-c4ce-77e0dbcda1b3"
      },
      "source": [
        "from tensorflow.keras.preprocessing.image import ImageDataGenerator\n",
        "\n",
        "train_dir = \"/content/seg_train/seg_train\"\n",
        "\n",
        "train_img_generator = ImageDataGenerator(rescale = 1./255,\n",
        "                                   rotation_range = 30,\n",
        "                                   horizontal_flip = True,\n",
        "                                   zoom_range = 0.2,\n",
        "                                   width_shift_range = 0.2,\n",
        "                                   height_shift_range = 0.2,\n",
        "                                   shear_range = 0.3,\n",
        "                                   validation_split = 0.2,  # Split dataset into training (80%) and validation (20%) dataset\n",
        "                                   fill_mode = \"nearest\")\n",
        "\n",
        "val_img_generator = ImageDataGenerator(rescale = 1./255,\n",
        "                                   validation_split = 0.2)  # Split dataset into training (80%) and validation (20%) dataset\n",
        "\n",
        "train_img = train_img_generator.flow_from_directory(\n",
        "    train_dir,\n",
        "    subset=\"training\",  # Set as training dataset\n",
        "    target_size=(150,150),\n",
        "    batch_size=50,\n",
        "    class_mode=\"categorical\")  # For multi-class classification purpose\n",
        "\n",
        "val_img = val_img_generator.flow_from_directory(\n",
        "    train_dir,\n",
        "    subset=\"validation\",  # Set as validation dataset\n",
        "    target_size=(150,150),\n",
        "    batch_size=50,\n",
        "    class_mode=\"categorical\")  # For multi-class clasification purpose"
      ],
      "execution_count": 11,
      "outputs": [
        {
          "output_type": "stream",
          "text": [
            "Found 11230 images belonging to 6 classes.\n",
            "Found 2804 images belonging to 6 classes.\n"
          ],
          "name": "stdout"
        }
      ]
    },
    {
      "cell_type": "markdown",
      "metadata": {
        "id": "kO3lnh8etaPB"
      },
      "source": [
        "#MODEL TUNING AND STRUCTURING"
      ]
    },
    {
      "cell_type": "code",
      "metadata": {
        "id": "QJaKZfvUv3Ab",
        "colab": {
          "base_uri": "https://localhost:8080/"
        },
        "outputId": "98a4686c-e17c-4cf9-c6d9-78e13291f36b"
      },
      "source": [
        "import tensorflow as tf\n",
        "from time import time\n",
        "from tensorflow.keras.layers import Input\n",
        "from tensorflow.keras.applications import ResNet50\n",
        "from tensorflow.keras.applications import ResNet152V2\n",
        "from tensorflow.keras.optimizers import Adam\n",
        "\n",
        "# Learning process start time\n",
        "start_time = time()\n",
        "\n",
        "class MyCallback(tf.keras.callbacks.Callback):\n",
        "  def on_epoch_end(self, epoch, logs={}):\n",
        "    if (logs.get(\"val_accuracy\") > 0.85):\n",
        "      print(\"\\nThe model has reached more than 85% of accuracy!\")\n",
        "      self.model.stop_training = True\n",
        "\n",
        "callbacks = MyCallback()\n",
        "\n",
        "model = tf.keras.models.Sequential([\n",
        "  tf.keras.layers.Conv2D(265, (3,3), activation=\"relu\", input_shape=(150,150,3)),\n",
        "  tf.keras.layers.Conv2D(128, (3,3), activation=\"relu\"),\n",
        "  tf.keras.layers.MaxPooling2D(5,5),\n",
        "  tf.keras.layers.Conv2D(128, (3,3), activation=\"relu\"),\n",
        "  tf.keras.layers.Conv2D(128, (3,3), activation=\"relu\"),\n",
        "  tf.keras.layers.Conv2D(128, (3,3), activation=\"relu\"),\n",
        "  tf.keras.layers.Conv2D(64, (3,3), activation=\"relu\"),\n",
        "  tf.keras.layers.MaxPooling2D(5,5),\n",
        "  tf.keras.layers.Flatten(),\n",
        "  tf.keras.layers.Dense(512, activation=\"relu\"),\n",
        "  tf.keras.layers.Dropout(0.2), \n",
        "  tf.keras.layers.Dense(256, activation=\"relu\"), \n",
        "  tf.keras.layers.Dropout(0.4), \n",
        "  tf.keras.layers.Dense(256, activation=\"relu\"), \n",
        "  tf.keras.layers.Dense(128, activation=\"relu\"),\n",
        "  tf.keras.layers.Dense(64, activation=\"relu\"),\n",
        "  tf.keras.layers.Dense(6, activation=\"softmax\")\n",
        "])\n",
        "\n",
        "model.summary()  # Review CNN architecture of the model\n",
        "\n",
        "model.compile(loss = \"categorical_crossentropy\", optimizer = Adam(learning_rate=0.0001), metrics = [\"accuracy\"])\n",
        "\n",
        "fitting = model.fit(\n",
        "          train_img,\n",
        "          steps_per_epoch = 200,\n",
        "          epochs = 50,\n",
        "          validation_data = val_img,\n",
        "          validation_steps = 50,\n",
        "          callbacks = [callbacks],\n",
        "          verbose = 2\n",
        "          )  # Output variable 'fitting' will be needed for later visualization purposes\n",
        "\n",
        "training_time = round((time()-start_time) / 60, 3)  # Count training time in minutes\n",
        "\n",
        "print(f\"Training Time: {training_time} minutes\")"
      ],
      "execution_count": null,
      "outputs": [
        {
          "output_type": "stream",
          "text": [
            "Model: \"sequential_4\"\n",
            "_________________________________________________________________\n",
            "Layer (type)                 Output Shape              Param #   \n",
            "=================================================================\n",
            "conv2d_24 (Conv2D)           (None, 148, 148, 265)     7420      \n",
            "_________________________________________________________________\n",
            "conv2d_25 (Conv2D)           (None, 146, 146, 128)     305408    \n",
            "_________________________________________________________________\n",
            "max_pooling2d_8 (MaxPooling2 (None, 29, 29, 128)       0         \n",
            "_________________________________________________________________\n",
            "conv2d_26 (Conv2D)           (None, 27, 27, 128)       147584    \n",
            "_________________________________________________________________\n",
            "conv2d_27 (Conv2D)           (None, 25, 25, 128)       147584    \n",
            "_________________________________________________________________\n",
            "conv2d_28 (Conv2D)           (None, 23, 23, 128)       147584    \n",
            "_________________________________________________________________\n",
            "conv2d_29 (Conv2D)           (None, 21, 21, 64)        73792     \n",
            "_________________________________________________________________\n",
            "max_pooling2d_9 (MaxPooling2 (None, 4, 4, 64)          0         \n",
            "_________________________________________________________________\n",
            "flatten_4 (Flatten)          (None, 1024)              0         \n",
            "_________________________________________________________________\n",
            "dense_24 (Dense)             (None, 512)               524800    \n",
            "_________________________________________________________________\n",
            "dropout_8 (Dropout)          (None, 512)               0         \n",
            "_________________________________________________________________\n",
            "dense_25 (Dense)             (None, 256)               131328    \n",
            "_________________________________________________________________\n",
            "dropout_9 (Dropout)          (None, 256)               0         \n",
            "_________________________________________________________________\n",
            "dense_26 (Dense)             (None, 256)               65792     \n",
            "_________________________________________________________________\n",
            "dense_27 (Dense)             (None, 128)               32896     \n",
            "_________________________________________________________________\n",
            "dense_28 (Dense)             (None, 64)                8256      \n",
            "_________________________________________________________________\n",
            "dense_29 (Dense)             (None, 6)                 390       \n",
            "=================================================================\n",
            "Total params: 1,592,834\n",
            "Trainable params: 1,592,834\n",
            "Non-trainable params: 0\n",
            "_________________________________________________________________\n",
            "Epoch 1/50\n",
            "WARNING:tensorflow:Callbacks method `on_train_batch_end` is slow compared to the batch time (batch time: 0.1189s vs `on_train_batch_end` time: 0.2908s). Check your callbacks.\n",
            "200/200 - 94s - loss: 1.5228 - accuracy: 0.3351 - val_loss: 1.2395 - val_accuracy: 0.4872\n",
            "Epoch 2/50\n",
            "200/200 - 94s - loss: 1.2189 - accuracy: 0.4843 - val_loss: 1.0721 - val_accuracy: 0.5528\n",
            "Epoch 3/50\n",
            "200/200 - 94s - loss: 1.1525 - accuracy: 0.5203 - val_loss: 1.0139 - val_accuracy: 0.5792\n",
            "Epoch 4/50\n",
            "200/200 - 94s - loss: 1.0939 - accuracy: 0.5559 - val_loss: 0.9412 - val_accuracy: 0.6164\n",
            "Epoch 5/50\n",
            "200/200 - 94s - loss: 1.0380 - accuracy: 0.5895 - val_loss: 0.9249 - val_accuracy: 0.6384\n",
            "Epoch 6/50\n",
            "200/200 - 94s - loss: 0.9906 - accuracy: 0.6070 - val_loss: 0.9614 - val_accuracy: 0.6412\n",
            "Epoch 7/50\n",
            "200/200 - 94s - loss: 0.9553 - accuracy: 0.6248 - val_loss: 0.8187 - val_accuracy: 0.6832\n",
            "Epoch 8/50\n",
            "200/200 - 94s - loss: 0.9023 - accuracy: 0.6416 - val_loss: 0.7197 - val_accuracy: 0.7324\n",
            "Epoch 9/50\n",
            "200/200 - 94s - loss: 0.8499 - accuracy: 0.6751 - val_loss: 0.7070 - val_accuracy: 0.7380\n",
            "Epoch 10/50\n",
            "200/200 - 94s - loss: 0.8141 - accuracy: 0.7004 - val_loss: 0.6649 - val_accuracy: 0.7636\n",
            "Epoch 11/50\n",
            "200/200 - 94s - loss: 0.7724 - accuracy: 0.7205 - val_loss: 0.6022 - val_accuracy: 0.7896\n",
            "Epoch 12/50\n",
            "200/200 - 94s - loss: 0.7385 - accuracy: 0.7309 - val_loss: 0.6128 - val_accuracy: 0.7836\n",
            "Epoch 13/50\n",
            "200/200 - 94s - loss: 0.7020 - accuracy: 0.7479 - val_loss: 0.6252 - val_accuracy: 0.7836\n",
            "Epoch 14/50\n",
            "200/200 - 94s - loss: 0.6832 - accuracy: 0.7541 - val_loss: 0.5520 - val_accuracy: 0.8020\n",
            "Epoch 15/50\n",
            "200/200 - 95s - loss: 0.6518 - accuracy: 0.7667 - val_loss: 0.5363 - val_accuracy: 0.8044\n",
            "Epoch 16/50\n",
            "200/200 - 94s - loss: 0.6316 - accuracy: 0.7719 - val_loss: 0.5600 - val_accuracy: 0.7992\n",
            "Epoch 17/50\n",
            "200/200 - 94s - loss: 0.6243 - accuracy: 0.7781 - val_loss: 0.5472 - val_accuracy: 0.8156\n",
            "Epoch 18/50\n",
            "200/200 - 95s - loss: 0.6030 - accuracy: 0.7813 - val_loss: 0.4826 - val_accuracy: 0.8348\n",
            "Epoch 19/50\n",
            "200/200 - 94s - loss: 0.6025 - accuracy: 0.7838 - val_loss: 0.5073 - val_accuracy: 0.8260\n",
            "Epoch 20/50\n",
            "200/200 - 94s - loss: 0.5960 - accuracy: 0.7861 - val_loss: 0.5748 - val_accuracy: 0.7984\n",
            "Epoch 21/50\n",
            "200/200 - 94s - loss: 0.5745 - accuracy: 0.7987 - val_loss: 0.4780 - val_accuracy: 0.8284\n",
            "Epoch 22/50\n",
            "200/200 - 94s - loss: 0.5494 - accuracy: 0.8047 - val_loss: 0.4436 - val_accuracy: 0.8460\n",
            "Epoch 23/50\n",
            "200/200 - 94s - loss: 0.5565 - accuracy: 0.8021 - val_loss: 0.4925 - val_accuracy: 0.8244\n",
            "Epoch 24/50\n",
            "200/200 - 94s - loss: 0.5574 - accuracy: 0.8025 - val_loss: 0.4946 - val_accuracy: 0.8276\n",
            "Epoch 25/50\n",
            "200/200 - 94s - loss: 0.5397 - accuracy: 0.8080 - val_loss: 0.4492 - val_accuracy: 0.8476\n",
            "Epoch 26/50\n",
            "200/200 - 94s - loss: 0.5308 - accuracy: 0.8102 - val_loss: 0.4534 - val_accuracy: 0.8416\n",
            "Epoch 27/50\n",
            "\n",
            "The model has reached more than 85% of accuracy!\n",
            "200/200 - 94s - loss: 0.5175 - accuracy: 0.8154 - val_loss: 0.4461 - val_accuracy: 0.8524\n",
            "Training Time: 42.705 minutes\n"
          ],
          "name": "stdout"
        }
      ]
    },
    {
      "cell_type": "markdown",
      "metadata": {
        "id": "6i7WNRZ5tfvJ"
      },
      "source": [
        "#MODEL LOSS AND ACCURACY VISUALIZATION"
      ]
    },
    {
      "cell_type": "markdown",
      "metadata": {
        "id": "vzjrB3Q2tjRF"
      },
      "source": [
        "##LOSS VISUALIZATION"
      ]
    },
    {
      "cell_type": "code",
      "metadata": {
        "id": "iCHLck99v7DT",
        "colab": {
          "base_uri": "https://localhost:8080/",
          "height": 295
        },
        "outputId": "9ef9288b-bb85-435b-ade3-d474553b1a3c"
      },
      "source": [
        "\"\"\"Plot training and validation loss during learning process.\"\"\"\n",
        "\n",
        "import matplotlib.pyplot as plt\n",
        "import matplotlib.ticker as ticker\n",
        "\n",
        "plt.plot(fitting.history[\"loss\"], marker = \"o\", label = \"Training Data\")  # Plot training loss\n",
        "plt.plot(fitting.history[\"val_loss\"], marker = \"o\", label = \"Validation Data\")  # Plot validation loss\n",
        "\n",
        "plt.title(\"LOSS GRAPH\", weight=\"bold\")\n",
        "plt.xlabel(\"Epoch\")\n",
        "plt.ylabel(\"Loss\")\n",
        "plt.grid(b=1, axis=\"y\")  # Show graph grid\n",
        "plt.legend()\n",
        "\n",
        "plt.show()"
      ],
      "execution_count": null,
      "outputs": [
        {
          "output_type": "display_data",
          "data": {
            "image/png": "[encoded data removed]",
            "text/plain": [
              "<Figure size 432x288 with 1 Axes>"
            ]
          },
          "metadata": {
            "tags": [],
            "needs_background": "light"
          }
        }
      ]
    },
    {
      "cell_type": "markdown",
      "metadata": {
        "id": "JhHylxCqtmr9"
      },
      "source": [
        "##ACCURACY VISUALIZATION"
      ]
    },
    {
      "cell_type": "code",
      "metadata": {
        "id": "np-tPYVav9ie",
        "colab": {
          "base_uri": "https://localhost:8080/",
          "height": 295
        },
        "outputId": "b9ef4580-83d6-441c-bfc1-6146a275bd95"
      },
      "source": [
        "\"\"\"Plot training and validation accuracy during learning process.\"\"\"\n",
        "\n",
        "import matplotlib.pyplot as plt\n",
        "\n",
        "plt.plot(fitting.history[\"accuracy\"], marker = \"o\", label = \"Training Data\")  # Plot training accuracy\n",
        "plt.plot(fitting.history[\"val_accuracy\"], marker = \"o\", label = \"Validation Data\")  # Plot validation accuracy\n",
        "\n",
        "plt.title(\"ACCURACY GRAPH\", weight=\"bold\")\n",
        "plt.xlabel(\"Epoch\")\n",
        "plt.ylabel(\"Accuracy\")\n",
        "plt.grid(b=1, axis=\"y\")  # Show graph grid\n",
        "plt.legend()\n",
        "\n",
        "plt.show()"
      ],
      "execution_count": null,
      "outputs": [
        {
          "output_type": "display_data",
          "data": {
            "image/png": "[encoded data removed]",
            "text/plain": [
              "<Figure size 432x288 with 1 Axes>"
            ]
          },
          "metadata": {
            "tags": [],
            "needs_background": "light"
          }
        }
      ]
    },
    {
      "cell_type": "markdown",
      "metadata": {
        "id": "Pyh2_LuTtqUE"
      },
      "source": [
        "##TF-LITE FORMAT SAVING FOR MODEL DEPLOYMENT"
      ]
    },
    {
      "cell_type": "code",
      "metadata": {
        "id": "e-eOVBbJv_ha"
      },
      "source": [
        "# Konversi model.\n",
        "converter = tf.lite.TFLiteConverter.from_keras_model(model)\n",
        "tflite_model = converter.convert()"
      ],
      "execution_count": null,
      "outputs": []
    },
    {
      "cell_type": "code",
      "metadata": {
        "id": "0OTrju3qwBXN"
      },
      "source": [
        "with tf.io.gfile.GFile('model.tflite', 'wb') as f:\n",
        "  f.write(tflite_model)"
      ],
      "execution_count": null,
      "outputs": []
    },
    {
      "cell_type": "markdown",
      "metadata": {
        "id": "DRR5TgXoaEGX"
      },
      "source": [
        "##REFERENCE"
      ]
    },
    {
      "cell_type": "markdown",
      "metadata": {
        "id": "PSlp2fVxaFWH"
      },
      "source": [
        "###Dataset source: https://www.kaggle.com/puneet6060/intel-image-classification"
      ]
    }
  ]
}